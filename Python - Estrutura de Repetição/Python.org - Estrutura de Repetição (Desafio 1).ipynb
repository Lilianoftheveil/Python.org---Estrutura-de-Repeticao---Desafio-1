{
 "cells": [
  {
   "cell_type": "code",
   "execution_count": null,
   "id": "f704985c",
   "metadata": {},
   "outputs": [],
   "source": [
    "Python - Lista de Exercícios (Estrutura de Repetição) \n",
    "link: https://wiki.python.org.br/EstruturaDeRepeticao"
   ]
  },
  {
   "cell_type": "markdown",
   "id": "0788cfd9",
   "metadata": {},
   "source": [
    "1) Faça um programa que peça uma nota, entre zero e dez. Mostre uma mensagem caso o valor seja inválido e continue pedindo até que o usuário informe um valor válido."
   ]
  },
  {
   "cell_type": "code",
   "execution_count": null,
   "id": "6d7cf684",
   "metadata": {},
   "outputs": [],
   "source": [
    "Obs.: Visando desenvolver o programa de forma mais dinâmica e menos suscetível a erros, adicionei \n",
    "outras estruturas no corpo do código. De modo que apenas números sejam aceitos durante sua execução."
   ]
  },
  {
   "cell_type": "code",
   "execution_count": null,
   "id": "eb6d47b6",
   "metadata": {},
   "outputs": [],
   "source": [
    "while True:\n",
    "  x = input(\"Digite uma nota de 0 a 10: \")\n",
    "  try:\n",
    "    float(x)\n",
    "    if float(x) < 0 or float(x) > 10:\n",
    "      print(\"Valor Inválido.\")\n",
    "      continue\n",
    "    else:\n",
    "      print(f\"Nota: {x}\")\n",
    "      break\n",
    "  except:\n",
    "    print(\"Por favor, digite apenas números.\")\n",
    "    continue"
   ]
  }
 ],
 "metadata": {
  "kernelspec": {
   "display_name": "Python 3 (ipykernel)",
   "language": "python",
   "name": "python3"
  },
  "language_info": {
   "codemirror_mode": {
    "name": "ipython",
    "version": 3
   },
   "file_extension": ".py",
   "mimetype": "text/x-python",
   "name": "python",
   "nbconvert_exporter": "python",
   "pygments_lexer": "ipython3",
   "version": "3.8.10"
  }
 },
 "nbformat": 4,
 "nbformat_minor": 5
}
